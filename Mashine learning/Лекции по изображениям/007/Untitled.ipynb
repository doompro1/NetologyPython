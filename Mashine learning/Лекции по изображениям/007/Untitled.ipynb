{
 "cells": [
  {
   "cell_type": "markdown",
   "id": "89c89c46",
   "metadata": {},
   "source": [
    "### Рыбы браконьеры) \n"
   ]
  },
  {
   "cell_type": "markdown",
   "id": "8088d641",
   "metadata": {},
   "source": [
    "Делаю импорт"
   ]
  },
  {
   "cell_type": "code",
   "execution_count": 1,
   "id": "00026dc2",
   "metadata": {},
   "outputs": [
    {
     "name": "stdout",
     "output_type": "stream",
     "text": [
      "2.5.0\n"
     ]
    }
   ],
   "source": [
    "import cv2\n",
    "import numpy as np\n",
    "import pandas as pd\n",
    "import tensorflow as tf\n",
    "from tensorflow.python.client import device_lib\n",
    "from tensorflow import keras\n",
    "import matplotlib.pyplot as plt\n",
    "from random import shuffle\n",
    "from tensorflow.keras.applications import vgg16\n",
    "import os\n",
    "print(tf.__version__)"
   ]
  },
  {
   "cell_type": "markdown",
   "id": "176bccaf",
   "metadata": {},
   "source": [
    "Проверяю , что нужная видеокарта на месте"
   ]
  },
  {
   "cell_type": "code",
   "execution_count": 2,
   "id": "9e123e32",
   "metadata": {},
   "outputs": [
    {
     "data": {
      "text/plain": [
       "[name: \"/device:CPU:0\"\n",
       " device_type: \"CPU\"\n",
       " memory_limit: 268435456\n",
       " locality {\n",
       " }\n",
       " incarnation: 17131794473011908830,\n",
       " name: \"/device:GPU:0\"\n",
       " device_type: \"GPU\"\n",
       " memory_limit: 14272167936\n",
       " locality {\n",
       "   bus_id: 1\n",
       "   links {\n",
       "   }\n",
       " }\n",
       " incarnation: 10091603592293498129\n",
       " physical_device_desc: \"device: 0, name: NVIDIA RTX A4000, pci bus id: 0000:08:00.0, compute capability: 8.6\",\n",
       " name: \"/device:GPU:1\"\n",
       " device_type: \"GPU\"\n",
       " memory_limit: 10084089856\n",
       " locality {\n",
       "   bus_id: 1\n",
       "   links {\n",
       "   }\n",
       " }\n",
       " incarnation: 11347436779160658351\n",
       " physical_device_desc: \"device: 1, name: NVIDIA GeForce RTX 3060, pci bus id: 0000:09:00.0, compute capability: 8.6\"]"
      ]
     },
     "execution_count": 2,
     "metadata": {},
     "output_type": "execute_result"
    }
   ],
   "source": [
    "from tensorflow.python.client import device_lib\n",
    "\n",
    "device_lib.list_local_devices()"
   ]
  },
  {
   "cell_type": "markdown",
   "id": "6eea4cf5",
   "metadata": {},
   "source": [
    "Задаю категории"
   ]
  },
  {
   "cell_type": "code",
   "execution_count": 3,
   "id": "fa157403",
   "metadata": {},
   "outputs": [],
   "source": [
    "class_names = ['ALB', 'BET', 'DOL', 'LAG', 'NoF', \n",
    "               'OTHER', 'SHARK', 'YFT']\n"
   ]
  },
  {
   "cell_type": "markdown",
   "id": "dda0aed5",
   "metadata": {},
   "source": [
    "Получаю список файлов"
   ]
  },
  {
   "cell_type": "code",
   "execution_count": 4,
   "id": "abc78d80",
   "metadata": {},
   "outputs": [
    {
     "name": "stdout",
     "output_type": "stream",
     "text": [
      "975\n",
      "200\n",
      "117\n",
      "67\n",
      "465\n",
      "299\n",
      "176\n",
      "734\n"
     ]
    }
   ],
   "source": [
    "TRAIN_PREFIX = 'C:/Users/Doom/Downloads/the-nature-conservancy-fisheries-monitoring/train/train'\n",
    "images_by_cat = []\n",
    "for cat in class_names:\n",
    "    folder1_files = []\n",
    "    for root, dirs, files in os.walk(f\"{TRAIN_PREFIX}/{cat}\" , topdown=False):\n",
    "        for i in files:\n",
    "            folder1_files.append(i)\n",
    "    print(len(folder1_files))\n",
    "    images_by_cat.append(folder1_files)\n",
    "    \n"
   ]
  },
  {
   "cell_type": "markdown",
   "id": "b3a8822f",
   "metadata": {},
   "source": [
    "Загружаю картинки "
   ]
  },
  {
   "cell_type": "code",
   "execution_count": 5,
   "id": "0155405b",
   "metadata": {},
   "outputs": [
    {
     "name": "stdout",
     "output_type": "stream",
     "text": [
      "(3033, 750, 1200, 3)\n"
     ]
    }
   ],
   "source": [
    "target_size=(1200, 750)\n",
    "X = []\n",
    "y = []\n",
    "train = []\n",
    "IMG_SIZE = (1200, 750)\n",
    "cat = 0 \n",
    "for _ in images_by_cat:\n",
    "    for __ in _:\n",
    "        path = f'{TRAIN_PREFIX}/{class_names[cat]}/{__}'\n",
    "        img = cv2.imread(path, cv2.IMREAD_COLOR)\n",
    "        if img is not None:\n",
    "            img_resized = cv2.resize(img, target_size)\n",
    "            img_file = vgg16.preprocess_input(img_resized.astype(np.float32))\n",
    "            img_arr = np.asarray(img_file)\n",
    "            img_arr = img_arr / 255.0 \n",
    "            X.append(img_arr)\n",
    "            y.append(cat)\n",
    "    cat += 1\n",
    "X = np.asarray(X) # Keras only accepts data as numpy arrays \n",
    "y = np.asarray(y)        \n",
    "        \n",
    "print(X.shape)       "
   ]
  },
  {
   "cell_type": "code",
   "execution_count": 6,
   "id": "d3cd0fda",
   "metadata": {},
   "outputs": [
    {
     "data": {
      "text/plain": [
       "(3033, 750, 1200, 3)"
      ]
     },
     "execution_count": 6,
     "metadata": {},
     "output_type": "execute_result"
    }
   ],
   "source": [
    "X.shape"
   ]
  },
  {
   "cell_type": "code",
   "execution_count": 7,
   "id": "7e30d94e",
   "metadata": {},
   "outputs": [
    {
     "name": "stdout",
     "output_type": "stream",
     "text": [
      "[0 0 0 ... 7 7 7]\n"
     ]
    }
   ],
   "source": [
    "print(y)"
   ]
  },
  {
   "cell_type": "code",
   "execution_count": 8,
   "id": "82b871b5",
   "metadata": {},
   "outputs": [],
   "source": [
    "model = keras.Sequential([\n",
    "    keras.layers.Flatten(input_shape=(1200, 750, 3)),\n",
    "    keras.layers.Dense(128, activation=tf.nn.relu),\n",
    "    keras.layers.Dense(10, activation=tf.nn.softmax)\n",
    "])"
   ]
  },
  {
   "cell_type": "code",
   "execution_count": 9,
   "id": "408fdfcb",
   "metadata": {},
   "outputs": [],
   "source": [
    "model.compile(optimizer = tf.keras.optimizers.Adam(),\n",
    "              loss = 'sparse_categorical_crossentropy',\n",
    "              metrics=['accuracy'])"
   ]
  },
  {
   "cell_type": "code",
   "execution_count": 10,
   "id": "fcdf0d3e",
   "metadata": {},
   "outputs": [
    {
     "name": "stdout",
     "output_type": "stream",
     "text": [
      "Epoch 1/5\n",
      "WARNING:tensorflow:Model was constructed with shape (None, 1200, 750, 3) for input KerasTensor(type_spec=TensorSpec(shape=(None, 1200, 750, 3), dtype=tf.float32, name='flatten_input'), name='flatten_input', description=\"created by layer 'flatten_input'\"), but it was called on an input with incompatible shape (None, 750, 1200, 3).\n",
      "WARNING:tensorflow:Model was constructed with shape (None, 1200, 750, 3) for input KerasTensor(type_spec=TensorSpec(shape=(None, 1200, 750, 3), dtype=tf.float32, name='flatten_input'), name='flatten_input', description=\"created by layer 'flatten_input'\"), but it was called on an input with incompatible shape (None, 750, 1200, 3).\n",
      "95/95 [==============================] - 13s 110ms/step - loss: 80.4268 - accuracy: 0.5981\n",
      "Epoch 2/5\n",
      "95/95 [==============================] - 10s 106ms/step - loss: 18.4352 - accuracy: 0.6983\n",
      "Epoch 3/5\n",
      "95/95 [==============================] - 10s 106ms/step - loss: 11.0849 - accuracy: 0.6957\n",
      "Epoch 4/5\n",
      "95/95 [==============================] - 10s 106ms/step - loss: 5.9216 - accuracy: 0.7254\n",
      "Epoch 5/5\n",
      "95/95 [==============================] - 10s 104ms/step - loss: 8.7368 - accuracy: 0.7277\n"
     ]
    },
    {
     "data": {
      "text/plain": [
       "<tensorflow.python.keras.callbacks.History at 0x23a4a3dd4c0>"
      ]
     },
     "execution_count": 10,
     "metadata": {},
     "output_type": "execute_result"
    }
   ],
   "source": [
    "model.fit(X, y, epochs=5)"
   ]
  },
  {
   "cell_type": "code",
   "execution_count": 11,
   "id": "ecb8ba44",
   "metadata": {},
   "outputs": [
    {
     "name": "stdout",
     "output_type": "stream",
     "text": [
      "1000\n"
     ]
    }
   ],
   "source": [
    "TEST_PREFIX = 'C:/Users/Doom/Downloads/the-nature-conservancy-fisheries-monitoring/test_stg1/test_stg1'\n",
    "folder1_files = []\n",
    "for root, dirs, files in os.walk(f\"{TEST_PREFIX}\" , topdown=False):\n",
    "    for i in files:\n",
    "        folder1_files.append(i)\n",
    "print(len(folder1_files))\n",
    "\n"
   ]
  },
  {
   "cell_type": "code",
   "execution_count": 12,
   "id": "3dc2918e",
   "metadata": {},
   "outputs": [
    {
     "name": "stdout",
     "output_type": "stream",
     "text": [
      "['img_00005.jpg', 'img_00007.jpg', 'img_00009.jpg', 'img_00018.jpg', 'img_00027.jpg', 'img_00030.jpg', 'img_00040.jpg', 'img_00046.jpg', 'img_00053.jpg', 'img_00071.jpg', 'img_00075.jpg', 'img_00102.jpg', 'img_00103.jpg', 'img_00109.jpg', 'img_00119.jpg', 'img_00120.jpg', 'img_00125.jpg', 'img_00128.jpg', 'img_00129.jpg', 'img_00133.jpg', 'img_00138.jpg', 'img_00141.jpg', 'img_00152.jpg', 'img_00161.jpg', 'img_00164.jpg', 'img_00170.jpg', 'img_00171.jpg', 'img_00172.jpg', 'img_00175.jpg', 'img_00180.jpg', 'img_00196.jpg', 'img_00212.jpg', 'img_00223.jpg', 'img_00230.jpg', 'img_00232.jpg', 'img_00244.jpg', 'img_00272.jpg', 'img_00280.jpg', 'img_00282.jpg', 'img_00285.jpg', 'img_00289.jpg', 'img_00292.jpg', 'img_00302.jpg', 'img_00311.jpg', 'img_00320.jpg', 'img_00331.jpg', 'img_00358.jpg', 'img_00374.jpg', 'img_00375.jpg', 'img_00376.jpg', 'img_00380.jpg', 'img_00383.jpg', 'img_00398.jpg', 'img_00407.jpg', 'img_00417.jpg', 'img_00432.jpg', 'img_00442.jpg', 'img_00446.jpg', 'img_00469.jpg', 'img_00473.jpg', 'img_00483.jpg', 'img_00484.jpg', 'img_00486.jpg', 'img_00487.jpg', 'img_00493.jpg', 'img_00518.jpg', 'img_00533.jpg', 'img_00538.jpg', 'img_00543.jpg', 'img_00550.jpg', 'img_00551.jpg', 'img_00564.jpg', 'img_00575.jpg', 'img_00582.jpg', 'img_00584.jpg', 'img_00587.jpg', 'img_00590.jpg', 'img_00591.jpg', 'img_00598.jpg', 'img_00599.jpg', 'img_00612.jpg', 'img_00618.jpg', 'img_00620.jpg', 'img_00642.jpg', 'img_00646.jpg', 'img_00648.jpg', 'img_00650.jpg', 'img_00654.jpg', 'img_00664.jpg', 'img_00667.jpg', 'img_00676.jpg', 'img_00697.jpg', 'img_00708.jpg', 'img_00716.jpg', 'img_00717.jpg', 'img_00718.jpg', 'img_00723.jpg', 'img_00724.jpg', 'img_00726.jpg', 'img_00729.jpg', 'img_00730.jpg', 'img_00757.jpg', 'img_00760.jpg', 'img_00763.jpg', 'img_00764.jpg', 'img_00765.jpg', 'img_00772.jpg', 'img_00773.jpg', 'img_00777.jpg', 'img_00780.jpg', 'img_00798.jpg', 'img_00808.jpg', 'img_00816.jpg', 'img_00828.jpg', 'img_00833.jpg', 'img_00837.jpg', 'img_00855.jpg', 'img_00857.jpg', 'img_00858.jpg', 'img_00865.jpg', 'img_00876.jpg', 'img_00889.jpg', 'img_00894.jpg', 'img_00902.jpg', 'img_00914.jpg', 'img_00921.jpg', 'img_00927.jpg', 'img_00943.jpg', 'img_00948.jpg', 'img_00950.jpg', 'img_00959.jpg', 'img_00962.jpg', 'img_00964.jpg', 'img_00966.jpg', 'img_00974.jpg', 'img_00979.jpg', 'img_00982.jpg', 'img_00985.jpg', 'img_00999.jpg', 'img_01022.jpg', 'img_01031.jpg', 'img_01035.jpg', 'img_01043.jpg', 'img_01058.jpg', 'img_01059.jpg', 'img_01090.jpg', 'img_01102.jpg', 'img_01103.jpg', 'img_01116.jpg', 'img_01134.jpg', 'img_01142.jpg', 'img_01168.jpg', 'img_01171.jpg', 'img_01177.jpg', 'img_01179.jpg', 'img_01188.jpg', 'img_01198.jpg', 'img_01204.jpg', 'img_01208.jpg', 'img_01211.jpg', 'img_01213.jpg', 'img_01222.jpg', 'img_01224.jpg', 'img_01237.jpg', 'img_01249.jpg', 'img_01253.jpg', 'img_01286.jpg', 'img_01289.jpg', 'img_01325.jpg', 'img_01328.jpg', 'img_01366.jpg', 'img_01371.jpg', 'img_01373.jpg', 'img_01377.jpg', 'img_01379.jpg', 'img_01384.jpg', 'img_01388.jpg', 'img_01392.jpg', 'img_01399.jpg', 'img_01404.jpg', 'img_01405.jpg', 'img_01413.jpg', 'img_01426.jpg', 'img_01431.jpg', 'img_01441.jpg', 'img_01444.jpg', 'img_01490.jpg', 'img_01495.jpg', 'img_01505.jpg', 'img_01511.jpg', 'img_01519.jpg', 'img_01530.jpg', 'img_01537.jpg', 'img_01538.jpg', 'img_01541.jpg', 'img_01543.jpg', 'img_01548.jpg', 'img_01552.jpg', 'img_01561.jpg', 'img_01562.jpg', 'img_01571.jpg', 'img_01593.jpg', 'img_01595.jpg', 'img_01616.jpg', 'img_01618.jpg', 'img_01627.jpg', 'img_01632.jpg', 'img_01633.jpg', 'img_01640.jpg', 'img_01646.jpg', 'img_01647.jpg', 'img_01649.jpg', 'img_01657.jpg', 'img_01669.jpg', 'img_01673.jpg', 'img_01681.jpg', 'img_01684.jpg', 'img_01685.jpg', 'img_01687.jpg', 'img_01688.jpg', 'img_01689.jpg', 'img_01716.jpg', 'img_01717.jpg', 'img_01724.jpg', 'img_01745.jpg', 'img_01771.jpg', 'img_01773.jpg', 'img_01781.jpg', 'img_01782.jpg', 'img_01802.jpg', 'img_01803.jpg', 'img_01824.jpg', 'img_01825.jpg', 'img_01831.jpg', 'img_01834.jpg', 'img_01847.jpg', 'img_01853.jpg', 'img_01856.jpg', 'img_01860.jpg', 'img_01862.jpg', 'img_01874.jpg', 'img_01888.jpg', 'img_01918.jpg', 'img_01930.jpg', 'img_01932.jpg', 'img_01955.jpg', 'img_01963.jpg', 'img_01966.jpg', 'img_01976.jpg', 'img_01983.jpg', 'img_01984.jpg', 'img_01995.jpg', 'img_01996.jpg', 'img_02001.jpg', 'img_02006.jpg', 'img_02066.jpg', 'img_02074.jpg', 'img_02076.jpg', 'img_02077.jpg', 'img_02078.jpg', 'img_02082.jpg', 'img_02083.jpg', 'img_02096.jpg', 'img_02119.jpg', 'img_02124.jpg', 'img_02135.jpg', 'img_02146.jpg', 'img_02159.jpg', 'img_02172.jpg', 'img_02180.jpg', 'img_02188.jpg', 'img_02194.jpg', 'img_02209.jpg', 'img_02216.jpg', 'img_02231.jpg', 'img_02235.jpg', 'img_02252.jpg', 'img_02268.jpg', 'img_02270.jpg', 'img_02281.jpg', 'img_02282.jpg', 'img_02285.jpg', 'img_02291.jpg', 'img_02299.jpg', 'img_02305.jpg', 'img_02307.jpg', 'img_02309.jpg', 'img_02318.jpg', 'img_02347.jpg', 'img_02356.jpg', 'img_02367.jpg', 'img_02372.jpg', 'img_02379.jpg', 'img_02384.jpg', 'img_02398.jpg', 'img_02400.jpg', 'img_02406.jpg', 'img_02412.jpg', 'img_02416.jpg', 'img_02422.jpg', 'img_02479.jpg', 'img_02486.jpg', 'img_02487.jpg', 'img_02507.jpg', 'img_02522.jpg', 'img_02540.jpg', 'img_02546.jpg', 'img_02556.jpg', 'img_02560.jpg', 'img_02563.jpg', 'img_02565.jpg', 'img_02573.jpg', 'img_02574.jpg', 'img_02602.jpg', 'img_02607.jpg', 'img_02622.jpg', 'img_02625.jpg', 'img_02636.jpg', 'img_02638.jpg', 'img_02641.jpg', 'img_02646.jpg', 'img_02648.jpg', 'img_02651.jpg', 'img_02656.jpg', 'img_02666.jpg', 'img_02679.jpg', 'img_02687.jpg', 'img_02699.jpg', 'img_02702.jpg', 'img_02703.jpg', 'img_02709.jpg', 'img_02726.jpg', 'img_02733.jpg', 'img_02734.jpg', 'img_02739.jpg', 'img_02749.jpg', 'img_02759.jpg', 'img_02764.jpg', 'img_02766.jpg', 'img_02769.jpg', 'img_02771.jpg', 'img_02789.jpg', 'img_02799.jpg', 'img_02808.jpg', 'img_02811.jpg', 'img_02830.jpg', 'img_02834.jpg', 'img_02837.jpg', 'img_02838.jpg', 'img_02842.jpg', 'img_02857.jpg', 'img_02865.jpg', 'img_02871.jpg', 'img_02876.jpg', 'img_02889.jpg', 'img_02890.jpg', 'img_02899.jpg', 'img_02904.jpg', 'img_02911.jpg', 'img_02916.jpg', 'img_02920.jpg', 'img_02943.jpg', 'img_02949.jpg', 'img_02954.jpg', 'img_02956.jpg', 'img_02964.jpg', 'img_02974.jpg', 'img_02977.jpg', 'img_02993.jpg', 'img_03014.jpg', 'img_03043.jpg', 'img_03055.jpg', 'img_03064.jpg', 'img_03069.jpg', 'img_03074.jpg', 'img_03078.jpg', 'img_03080.jpg', 'img_03082.jpg', 'img_03087.jpg', 'img_03116.jpg', 'img_03128.jpg', 'img_03135.jpg', 'img_03140.jpg', 'img_03166.jpg', 'img_03169.jpg', 'img_03181.jpg', 'img_03195.jpg', 'img_03199.jpg', 'img_03210.jpg', 'img_03220.jpg', 'img_03222.jpg', 'img_03223.jpg', 'img_03228.jpg', 'img_03229.jpg', 'img_03231.jpg', 'img_03238.jpg', 'img_03239.jpg', 'img_03252.jpg', 'img_03254.jpg', 'img_03260.jpg', 'img_03261.jpg', 'img_03270.jpg', 'img_03283.jpg', 'img_03290.jpg', 'img_03297.jpg', 'img_03310.jpg', 'img_03312.jpg', 'img_03324.jpg', 'img_03333.jpg', 'img_03342.jpg', 'img_03346.jpg', 'img_03355.jpg', 'img_03361.jpg', 'img_03370.jpg', 'img_03399.jpg', 'img_03410.jpg', 'img_03422.jpg', 'img_03426.jpg', 'img_03439.jpg', 'img_03440.jpg', 'img_03444.jpg', 'img_03445.jpg', 'img_03446.jpg', 'img_03452.jpg', 'img_03454.jpg', 'img_03456.jpg', 'img_03457.jpg', 'img_03471.jpg', 'img_03475.jpg', 'img_03488.jpg', 'img_03490.jpg', 'img_03502.jpg', 'img_03504.jpg', 'img_03520.jpg', 'img_03527.jpg', 'img_03547.jpg', 'img_03548.jpg', 'img_03554.jpg', 'img_03563.jpg', 'img_03581.jpg', 'img_03584.jpg', 'img_03587.jpg', 'img_03588.jpg', 'img_03602.jpg', 'img_03627.jpg', 'img_03628.jpg', 'img_03652.jpg', 'img_03670.jpg', 'img_03674.jpg', 'img_03677.jpg', 'img_03711.jpg', 'img_03715.jpg', 'img_03718.jpg', 'img_03726.jpg', 'img_03739.jpg', 'img_03749.jpg', 'img_03750.jpg', 'img_03760.jpg', 'img_03764.jpg', 'img_03776.jpg', 'img_03801.jpg', 'img_03805.jpg', 'img_03809.jpg', 'img_03825.jpg', 'img_03831.jpg', 'img_03837.jpg', 'img_03847.jpg', 'img_03853.jpg', 'img_03866.jpg', 'img_03867.jpg', 'img_03869.jpg', 'img_03871.jpg', 'img_03886.jpg', 'img_03891.jpg', 'img_03892.jpg', 'img_03896.jpg', 'img_03923.jpg', 'img_03924.jpg', 'img_03928.jpg', 'img_03929.jpg', 'img_03931.jpg', 'img_03935.jpg', 'img_03941.jpg', 'img_03942.jpg', 'img_03943.jpg', 'img_03945.jpg', 'img_03946.jpg', 'img_03952.jpg', 'img_03967.jpg', 'img_03974.jpg', 'img_03992.jpg', 'img_03995.jpg', 'img_03996.jpg', 'img_04001.jpg', 'img_04002.jpg', 'img_04003.jpg', 'img_04004.jpg', 'img_04013.jpg', 'img_04015.jpg', 'img_04024.jpg', 'img_04036.jpg', 'img_04037.jpg', 'img_04044.jpg', 'img_04061.jpg', 'img_04069.jpg', 'img_04073.jpg', 'img_04076.jpg', 'img_04101.jpg', 'img_04115.jpg', 'img_04118.jpg', 'img_04126.jpg', 'img_04127.jpg', 'img_04128.jpg', 'img_04129.jpg', 'img_04130.jpg', 'img_04136.jpg', 'img_04138.jpg', 'img_04145.jpg', 'img_04156.jpg', 'img_04181.jpg', 'img_04183.jpg', 'img_04204.jpg', 'img_04221.jpg', 'img_04233.jpg', 'img_04237.jpg', 'img_04240.jpg', 'img_04247.jpg', 'img_04250.jpg', 'img_04257.jpg', 'img_04261.jpg', 'img_04263.jpg', 'img_04266.jpg', 'img_04268.jpg', 'img_04271.jpg', 'img_04272.jpg', 'img_04282.jpg', 'img_04285.jpg', 'img_04306.jpg', 'img_04310.jpg', 'img_04321.jpg', 'img_04323.jpg', 'img_04324.jpg', 'img_04341.jpg', 'img_04369.jpg', 'img_04370.jpg', 'img_04375.jpg', 'img_04382.jpg', 'img_04386.jpg', 'img_04390.jpg', 'img_04405.jpg', 'img_04408.jpg', 'img_04410.jpg', 'img_04415.jpg', 'img_04419.jpg', 'img_04422.jpg', 'img_04423.jpg', 'img_04425.jpg', 'img_04427.jpg', 'img_04432.jpg', 'img_04453.jpg', 'img_04461.jpg', 'img_04476.jpg', 'img_04478.jpg', 'img_04479.jpg', 'img_04482.jpg', 'img_04496.jpg', 'img_04503.jpg', 'img_04507.jpg', 'img_04511.jpg', 'img_04520.jpg', 'img_04532.jpg', 'img_04546.jpg', 'img_04554.jpg', 'img_04559.jpg', 'img_04562.jpg', 'img_04563.jpg', 'img_04585.jpg', 'img_04586.jpg', 'img_04603.jpg', 'img_04624.jpg', 'img_04629.jpg', 'img_04640.jpg', 'img_04642.jpg', 'img_04647.jpg', 'img_04657.jpg', 'img_04661.jpg', 'img_04671.jpg', 'img_04675.jpg', 'img_04696.jpg', 'img_04705.jpg', 'img_04712.jpg', 'img_04719.jpg', 'img_04723.jpg', 'img_04726.jpg', 'img_04740.jpg', 'img_04750.jpg', 'img_04752.jpg', 'img_04757.jpg', 'img_04766.jpg', 'img_04795.jpg', 'img_04811.jpg', 'img_04814.jpg', 'img_04830.jpg', 'img_04835.jpg', 'img_04856.jpg', 'img_04860.jpg', 'img_04870.jpg', 'img_04872.jpg', 'img_04879.jpg', 'img_04885.jpg', 'img_04888.jpg', 'img_04921.jpg', 'img_04949.jpg', 'img_04959.jpg', 'img_04962.jpg', 'img_04975.jpg', 'img_04990.jpg', 'img_04991.jpg', 'img_05015.jpg', 'img_05016.jpg', 'img_05021.jpg', 'img_05026.jpg', 'img_05030.jpg', 'img_05038.jpg', 'img_05046.jpg', 'img_05055.jpg', 'img_05059.jpg', 'img_05064.jpg', 'img_05068.jpg', 'img_05074.jpg', 'img_05076.jpg', 'img_05078.jpg', 'img_05084.jpg', 'img_05085.jpg', 'img_05087.jpg', 'img_05095.jpg', 'img_05119.jpg', 'img_05137.jpg', 'img_05139.jpg', 'img_05147.jpg', 'img_05156.jpg', 'img_05185.jpg', 'img_05186.jpg', 'img_05192.jpg', 'img_05196.jpg', 'img_05209.jpg', 'img_05210.jpg', 'img_05211.jpg', 'img_05222.jpg', 'img_05236.jpg', 'img_05241.jpg', 'img_05244.jpg', 'img_05251.jpg', 'img_05253.jpg', 'img_05260.jpg', 'img_05264.jpg', 'img_05268.jpg', 'img_05269.jpg', 'img_05273.jpg', 'img_05276.jpg', 'img_05284.jpg', 'img_05292.jpg', 'img_05293.jpg', 'img_05322.jpg', 'img_05328.jpg', 'img_05336.jpg', 'img_05341.jpg', 'img_05349.jpg', 'img_05359.jpg', 'img_05378.jpg', 'img_05393.jpg', 'img_05410.jpg', 'img_05426.jpg', 'img_05433.jpg', 'img_05434.jpg', 'img_05438.jpg', 'img_05439.jpg', 'img_05440.jpg', 'img_05445.jpg', 'img_05454.jpg', 'img_05459.jpg', 'img_05463.jpg', 'img_05471.jpg', 'img_05475.jpg', 'img_05479.jpg', 'img_05488.jpg', 'img_05489.jpg', 'img_05492.jpg', 'img_05508.jpg', 'img_05516.jpg', 'img_05520.jpg', 'img_05525.jpg', 'img_05539.jpg', 'img_05548.jpg', 'img_05558.jpg', 'img_05563.jpg', 'img_05568.jpg', 'img_05572.jpg', 'img_05580.jpg', 'img_05584.jpg', 'img_05587.jpg', 'img_05595.jpg', 'img_05603.jpg', 'img_05612.jpg', 'img_05613.jpg', 'img_05615.jpg', 'img_05623.jpg', 'img_05640.jpg', 'img_05653.jpg', 'img_05654.jpg', 'img_05657.jpg', 'img_05672.jpg', 'img_05673.jpg', 'img_05682.jpg', 'img_05692.jpg', 'img_05718.jpg', 'img_05719.jpg', 'img_05721.jpg', 'img_05722.jpg', 'img_05724.jpg', 'img_05731.jpg', 'img_05735.jpg', 'img_05740.jpg', 'img_05743.jpg', 'img_05754.jpg', 'img_05755.jpg', 'img_05766.jpg', 'img_05768.jpg', 'img_05775.jpg', 'img_05790.jpg', 'img_05792.jpg', 'img_05794.jpg', 'img_05805.jpg', 'img_05813.jpg', 'img_05817.jpg', 'img_05824.jpg', 'img_05828.jpg', 'img_05835.jpg', 'img_05838.jpg', 'img_05857.jpg', 'img_05864.jpg', 'img_05879.jpg', 'img_05882.jpg', 'img_05896.jpg', 'img_05908.jpg', 'img_05915.jpg', 'img_05916.jpg', 'img_05922.jpg', 'img_05927.jpg', 'img_05940.jpg', 'img_05948.jpg', 'img_05950.jpg', 'img_05953.jpg', 'img_05958.jpg', 'img_05960.jpg', 'img_05963.jpg', 'img_05967.jpg', 'img_05976.jpg', 'img_05979.jpg', 'img_05981.jpg', 'img_05989.jpg', 'img_06001.jpg', 'img_06003.jpg', 'img_06010.jpg', 'img_06021.jpg', 'img_06033.jpg', 'img_06037.jpg', 'img_06038.jpg', 'img_06042.jpg', 'img_06059.jpg', 'img_06065.jpg', 'img_06067.jpg', 'img_06076.jpg', 'img_06097.jpg', 'img_06099.jpg', 'img_06101.jpg', 'img_06103.jpg', 'img_06137.jpg', 'img_06144.jpg', 'img_06147.jpg', 'img_06165.jpg', 'img_06174.jpg', 'img_06186.jpg', 'img_06189.jpg', 'img_06203.jpg', 'img_06207.jpg', 'img_06210.jpg', 'img_06211.jpg', 'img_06237.jpg', 'img_06238.jpg', 'img_06259.jpg', 'img_06261.jpg', 'img_06268.jpg', 'img_06272.jpg', 'img_06273.jpg', 'img_06285.jpg', 'img_06294.jpg', 'img_06302.jpg', 'img_06311.jpg', 'img_06318.jpg', 'img_06321.jpg', 'img_06324.jpg', 'img_06332.jpg', 'img_06345.jpg', 'img_06346.jpg', 'img_06349.jpg', 'img_06368.jpg', 'img_06369.jpg', 'img_06371.jpg', 'img_06373.jpg', 'img_06401.jpg', 'img_06412.jpg', 'img_06424.jpg', 'img_06426.jpg', 'img_06440.jpg', 'img_06455.jpg', 'img_06469.jpg', 'img_06475.jpg', 'img_06477.jpg', 'img_06489.jpg', 'img_06496.jpg', 'img_06506.jpg', 'img_06508.jpg', 'img_06510.jpg', 'img_06521.jpg', 'img_06522.jpg', 'img_06525.jpg', 'img_06541.jpg', 'img_06547.jpg', 'img_06549.jpg', 'img_06555.jpg', 'img_06559.jpg', 'img_06564.jpg', 'img_06571.jpg', 'img_06585.jpg', 'img_06608.jpg', 'img_06611.jpg', 'img_06614.jpg', 'img_06616.jpg', 'img_06630.jpg', 'img_06637.jpg', 'img_06642.jpg', 'img_06646.jpg', 'img_06658.jpg', 'img_06662.jpg', 'img_06663.jpg', 'img_06673.jpg', 'img_06681.jpg', 'img_06684.jpg', 'img_06685.jpg', 'img_06690.jpg', 'img_06698.jpg', 'img_06732.jpg', 'img_06734.jpg', 'img_06748.jpg', 'img_06756.jpg', 'img_06780.jpg', 'img_06783.jpg', 'img_06798.jpg', 'img_06800.jpg', 'img_06806.jpg', 'img_06807.jpg', 'img_06808.jpg', 'img_06812.jpg', 'img_06831.jpg', 'img_06832.jpg', 'img_06845.jpg', 'img_06849.jpg', 'img_06851.jpg', 'img_06859.jpg', 'img_06860.jpg', 'img_06870.jpg', 'img_06892.jpg', 'img_06893.jpg', 'img_06899.jpg', 'img_06902.jpg', 'img_06909.jpg', 'img_06914.jpg', 'img_06916.jpg', 'img_06921.jpg', 'img_06922.jpg', 'img_06936.jpg', 'img_06939.jpg', 'img_06946.jpg', 'img_06947.jpg', 'img_06955.jpg', 'img_06959.jpg', 'img_06962.jpg', 'img_06966.jpg', 'img_06975.jpg', 'img_06985.jpg', 'img_06986.jpg', 'img_07005.jpg', 'img_07023.jpg', 'img_07043.jpg', 'img_07044.jpg', 'img_07045.jpg', 'img_07050.jpg', 'img_07051.jpg', 'img_07054.jpg', 'img_07060.jpg', 'img_07062.jpg', 'img_07065.jpg', 'img_07068.jpg', 'img_07079.jpg', 'img_07084.jpg', 'img_07086.jpg', 'img_07094.jpg', 'img_07103.jpg', 'img_07110.jpg', 'img_07120.jpg', 'img_07122.jpg', 'img_07137.jpg', 'img_07143.jpg', 'img_07146.jpg', 'img_07147.jpg', 'img_07149.jpg', 'img_07156.jpg', 'img_07157.jpg', 'img_07160.jpg', 'img_07173.jpg', 'img_07179.jpg', 'img_07183.jpg', 'img_07187.jpg', 'img_07188.jpg', 'img_07191.jpg', 'img_07192.jpg', 'img_07199.jpg', 'img_07213.jpg', 'img_07224.jpg', 'img_07231.jpg', 'img_07237.jpg', 'img_07251.jpg', 'img_07270.jpg', 'img_07278.jpg', 'img_07304.jpg', 'img_07314.jpg', 'img_07318.jpg', 'img_07319.jpg', 'img_07330.jpg', 'img_07348.jpg', 'img_07352.jpg', 'img_07354.jpg', 'img_07371.jpg', 'img_07375.jpg', 'img_07409.jpg', 'img_07417.jpg', 'img_07419.jpg', 'img_07420.jpg', 'img_07426.jpg', 'img_07428.jpg', 'img_07434.jpg', 'img_07436.jpg', 'img_07448.jpg', 'img_07460.jpg', 'img_07467.jpg', 'img_07469.jpg', 'img_07474.jpg', 'img_07501.jpg', 'img_07505.jpg', 'img_07508.jpg', 'img_07514.jpg', 'img_07526.jpg', 'img_07528.jpg', 'img_07538.jpg', 'img_07543.jpg', 'img_07553.jpg', 'img_07561.jpg', 'img_07563.jpg', 'img_07574.jpg', 'img_07578.jpg', 'img_07580.jpg', 'img_07583.jpg', 'img_07590.jpg', 'img_07594.jpg', 'img_07616.jpg', 'img_07621.jpg', 'img_07623.jpg', 'img_07628.jpg', 'img_07659.jpg', 'img_07663.jpg', 'img_07678.jpg', 'img_07689.jpg', 'img_07700.jpg', 'img_07717.jpg', 'img_07746.jpg', 'img_07757.jpg', 'img_07792.jpg', 'img_07799.jpg', 'img_07818.jpg', 'img_07833.jpg', 'img_07859.jpg', 'img_07872.jpg', 'img_07893.jpg', 'img_07895.jpg', 'img_07905.jpg', 'img_07906.jpg', 'img_07908.jpg', 'img_07910.jpg', 'img_07921.jpg']\n"
     ]
    }
   ],
   "source": [
    "X = []\n",
    "y = []\n",
    "print(folder1_files)"
   ]
  },
  {
   "cell_type": "code",
   "execution_count": 13,
   "id": "a796a4db",
   "metadata": {},
   "outputs": [
    {
     "name": "stdout",
     "output_type": "stream",
     "text": [
      "WARNING:tensorflow:Model was constructed with shape (None, 1200, 750, 3) for input KerasTensor(type_spec=TensorSpec(shape=(None, 1200, 750, 3), dtype=tf.float32, name='flatten_input'), name='flatten_input', description=\"created by layer 'flatten_input'\"), but it was called on an input with incompatible shape (None, 1200, 3).\n"
     ]
    },
    {
     "ename": "ValueError",
     "evalue": "in user code:\n\n    E:\\ProgramData\\Anaconda3\\lib\\site-packages\\tensorflow\\python\\keras\\engine\\training.py:1569 predict_function  *\n        return step_function(self, iterator)\n    E:\\ProgramData\\Anaconda3\\lib\\site-packages\\tensorflow\\python\\keras\\engine\\training.py:1559 step_function  **\n        outputs = model.distribute_strategy.run(run_step, args=(data,))\n    E:\\ProgramData\\Anaconda3\\lib\\site-packages\\tensorflow\\python\\distribute\\distribute_lib.py:1285 run\n        return self._extended.call_for_each_replica(fn, args=args, kwargs=kwargs)\n    E:\\ProgramData\\Anaconda3\\lib\\site-packages\\tensorflow\\python\\distribute\\distribute_lib.py:2833 call_for_each_replica\n        return self._call_for_each_replica(fn, args, kwargs)\n    E:\\ProgramData\\Anaconda3\\lib\\site-packages\\tensorflow\\python\\distribute\\distribute_lib.py:3608 _call_for_each_replica\n        return fn(*args, **kwargs)\n    E:\\ProgramData\\Anaconda3\\lib\\site-packages\\tensorflow\\python\\keras\\engine\\training.py:1552 run_step  **\n        outputs = model.predict_step(data)\n    E:\\ProgramData\\Anaconda3\\lib\\site-packages\\tensorflow\\python\\keras\\engine\\training.py:1525 predict_step\n        return self(x, training=False)\n    E:\\ProgramData\\Anaconda3\\lib\\site-packages\\tensorflow\\python\\keras\\engine\\base_layer.py:1030 __call__\n        outputs = call_fn(inputs, *args, **kwargs)\n    E:\\ProgramData\\Anaconda3\\lib\\site-packages\\tensorflow\\python\\keras\\engine\\sequential.py:380 call\n        return super(Sequential, self).call(inputs, training=training, mask=mask)\n    E:\\ProgramData\\Anaconda3\\lib\\site-packages\\tensorflow\\python\\keras\\engine\\functional.py:420 call\n        return self._run_internal_graph(\n    E:\\ProgramData\\Anaconda3\\lib\\site-packages\\tensorflow\\python\\keras\\engine\\functional.py:556 _run_internal_graph\n        outputs = node.layer(*args, **kwargs)\n    E:\\ProgramData\\Anaconda3\\lib\\site-packages\\tensorflow\\python\\keras\\engine\\base_layer.py:1013 __call__\n        input_spec.assert_input_compatibility(self.input_spec, inputs, self.name)\n    E:\\ProgramData\\Anaconda3\\lib\\site-packages\\tensorflow\\python\\keras\\engine\\input_spec.py:251 assert_input_compatibility\n        raise ValueError(\n\n    ValueError: Input 0 of layer dense is incompatible with the layer: expected axis -1 of input shape to have value 2700000 but received input with shape (None, 3600)\n",
     "output_type": "error",
     "traceback": [
      "\u001b[1;31m---------------------------------------------------------------------------\u001b[0m",
      "\u001b[1;31mValueError\u001b[0m                                Traceback (most recent call last)",
      "\u001b[1;32m<ipython-input-13-dea6f1dc78ca>\u001b[0m in \u001b[0;36m<module>\u001b[1;34m\u001b[0m\n\u001b[0;32m     10\u001b[0m         \u001b[0mimg_arr\u001b[0m \u001b[1;33m=\u001b[0m \u001b[0mnp\u001b[0m\u001b[1;33m.\u001b[0m\u001b[0masarray\u001b[0m\u001b[1;33m(\u001b[0m\u001b[0mimg_file\u001b[0m\u001b[1;33m)\u001b[0m\u001b[1;33m\u001b[0m\u001b[1;33m\u001b[0m\u001b[0m\n\u001b[0;32m     11\u001b[0m         \u001b[0mimg_arr\u001b[0m \u001b[1;33m=\u001b[0m \u001b[0mimg_arr\u001b[0m \u001b[1;33m/\u001b[0m \u001b[1;36m255.0\u001b[0m\u001b[1;33m\u001b[0m\u001b[1;33m\u001b[0m\u001b[0m\n\u001b[1;32m---> 12\u001b[1;33m         \u001b[0mprediction\u001b[0m \u001b[1;33m=\u001b[0m \u001b[0mmodel\u001b[0m\u001b[1;33m.\u001b[0m\u001b[0mpredict\u001b[0m\u001b[1;33m(\u001b[0m\u001b[0mnp\u001b[0m\u001b[1;33m.\u001b[0m\u001b[0masarray\u001b[0m\u001b[1;33m(\u001b[0m\u001b[0mimg_arr\u001b[0m\u001b[1;33m)\u001b[0m\u001b[1;33m)\u001b[0m\u001b[1;33m\u001b[0m\u001b[1;33m\u001b[0m\u001b[0m\n\u001b[0m\u001b[0;32m     13\u001b[0m         \u001b[0mpredictions\u001b[0m\u001b[1;33m.\u001b[0m\u001b[0mappend\u001b[0m\u001b[1;33m(\u001b[0m\u001b[0mimg_arr\u001b[0m\u001b[1;33m)\u001b[0m\u001b[1;33m\u001b[0m\u001b[1;33m\u001b[0m\u001b[0m\n\u001b[0;32m     14\u001b[0m \u001b[0mpredictions\u001b[0m \u001b[1;33m=\u001b[0m \u001b[0mnp\u001b[0m\u001b[1;33m.\u001b[0m\u001b[0masarray\u001b[0m\u001b[1;33m(\u001b[0m\u001b[0mpredictions\u001b[0m\u001b[1;33m)\u001b[0m \u001b[1;31m# Keras only accepts data as numpy arrays\u001b[0m\u001b[1;33m\u001b[0m\u001b[1;33m\u001b[0m\u001b[0m\n",
      "\u001b[1;32mE:\\ProgramData\\Anaconda3\\lib\\site-packages\\tensorflow\\python\\keras\\engine\\training.py\u001b[0m in \u001b[0;36mpredict\u001b[1;34m(self, x, batch_size, verbose, steps, callbacks, max_queue_size, workers, use_multiprocessing)\u001b[0m\n\u001b[0;32m   1725\u001b[0m           \u001b[1;32mfor\u001b[0m \u001b[0mstep\u001b[0m \u001b[1;32min\u001b[0m \u001b[0mdata_handler\u001b[0m\u001b[1;33m.\u001b[0m\u001b[0msteps\u001b[0m\u001b[1;33m(\u001b[0m\u001b[1;33m)\u001b[0m\u001b[1;33m:\u001b[0m\u001b[1;33m\u001b[0m\u001b[1;33m\u001b[0m\u001b[0m\n\u001b[0;32m   1726\u001b[0m             \u001b[0mcallbacks\u001b[0m\u001b[1;33m.\u001b[0m\u001b[0mon_predict_batch_begin\u001b[0m\u001b[1;33m(\u001b[0m\u001b[0mstep\u001b[0m\u001b[1;33m)\u001b[0m\u001b[1;33m\u001b[0m\u001b[1;33m\u001b[0m\u001b[0m\n\u001b[1;32m-> 1727\u001b[1;33m             \u001b[0mtmp_batch_outputs\u001b[0m \u001b[1;33m=\u001b[0m \u001b[0mself\u001b[0m\u001b[1;33m.\u001b[0m\u001b[0mpredict_function\u001b[0m\u001b[1;33m(\u001b[0m\u001b[0miterator\u001b[0m\u001b[1;33m)\u001b[0m\u001b[1;33m\u001b[0m\u001b[1;33m\u001b[0m\u001b[0m\n\u001b[0m\u001b[0;32m   1728\u001b[0m             \u001b[1;32mif\u001b[0m \u001b[0mdata_handler\u001b[0m\u001b[1;33m.\u001b[0m\u001b[0mshould_sync\u001b[0m\u001b[1;33m:\u001b[0m\u001b[1;33m\u001b[0m\u001b[1;33m\u001b[0m\u001b[0m\n\u001b[0;32m   1729\u001b[0m               \u001b[0mcontext\u001b[0m\u001b[1;33m.\u001b[0m\u001b[0masync_wait\u001b[0m\u001b[1;33m(\u001b[0m\u001b[1;33m)\u001b[0m\u001b[1;33m\u001b[0m\u001b[1;33m\u001b[0m\u001b[0m\n",
      "\u001b[1;32mE:\\ProgramData\\Anaconda3\\lib\\site-packages\\tensorflow\\python\\eager\\def_function.py\u001b[0m in \u001b[0;36m__call__\u001b[1;34m(self, *args, **kwds)\u001b[0m\n\u001b[0;32m    887\u001b[0m \u001b[1;33m\u001b[0m\u001b[0m\n\u001b[0;32m    888\u001b[0m       \u001b[1;32mwith\u001b[0m \u001b[0mOptionalXlaContext\u001b[0m\u001b[1;33m(\u001b[0m\u001b[0mself\u001b[0m\u001b[1;33m.\u001b[0m\u001b[0m_jit_compile\u001b[0m\u001b[1;33m)\u001b[0m\u001b[1;33m:\u001b[0m\u001b[1;33m\u001b[0m\u001b[1;33m\u001b[0m\u001b[0m\n\u001b[1;32m--> 889\u001b[1;33m         \u001b[0mresult\u001b[0m \u001b[1;33m=\u001b[0m \u001b[0mself\u001b[0m\u001b[1;33m.\u001b[0m\u001b[0m_call\u001b[0m\u001b[1;33m(\u001b[0m\u001b[1;33m*\u001b[0m\u001b[0margs\u001b[0m\u001b[1;33m,\u001b[0m \u001b[1;33m**\u001b[0m\u001b[0mkwds\u001b[0m\u001b[1;33m)\u001b[0m\u001b[1;33m\u001b[0m\u001b[1;33m\u001b[0m\u001b[0m\n\u001b[0m\u001b[0;32m    890\u001b[0m \u001b[1;33m\u001b[0m\u001b[0m\n\u001b[0;32m    891\u001b[0m       \u001b[0mnew_tracing_count\u001b[0m \u001b[1;33m=\u001b[0m \u001b[0mself\u001b[0m\u001b[1;33m.\u001b[0m\u001b[0mexperimental_get_tracing_count\u001b[0m\u001b[1;33m(\u001b[0m\u001b[1;33m)\u001b[0m\u001b[1;33m\u001b[0m\u001b[1;33m\u001b[0m\u001b[0m\n",
      "\u001b[1;32mE:\\ProgramData\\Anaconda3\\lib\\site-packages\\tensorflow\\python\\eager\\def_function.py\u001b[0m in \u001b[0;36m_call\u001b[1;34m(self, *args, **kwds)\u001b[0m\n\u001b[0;32m    931\u001b[0m       \u001b[1;31m# This is the first call of __call__, so we have to initialize.\u001b[0m\u001b[1;33m\u001b[0m\u001b[1;33m\u001b[0m\u001b[1;33m\u001b[0m\u001b[0m\n\u001b[0;32m    932\u001b[0m       \u001b[0minitializers\u001b[0m \u001b[1;33m=\u001b[0m \u001b[1;33m[\u001b[0m\u001b[1;33m]\u001b[0m\u001b[1;33m\u001b[0m\u001b[1;33m\u001b[0m\u001b[0m\n\u001b[1;32m--> 933\u001b[1;33m       \u001b[0mself\u001b[0m\u001b[1;33m.\u001b[0m\u001b[0m_initialize\u001b[0m\u001b[1;33m(\u001b[0m\u001b[0margs\u001b[0m\u001b[1;33m,\u001b[0m \u001b[0mkwds\u001b[0m\u001b[1;33m,\u001b[0m \u001b[0madd_initializers_to\u001b[0m\u001b[1;33m=\u001b[0m\u001b[0minitializers\u001b[0m\u001b[1;33m)\u001b[0m\u001b[1;33m\u001b[0m\u001b[1;33m\u001b[0m\u001b[0m\n\u001b[0m\u001b[0;32m    934\u001b[0m     \u001b[1;32mfinally\u001b[0m\u001b[1;33m:\u001b[0m\u001b[1;33m\u001b[0m\u001b[1;33m\u001b[0m\u001b[0m\n\u001b[0;32m    935\u001b[0m       \u001b[1;31m# At this point we know that the initialization is complete (or less\u001b[0m\u001b[1;33m\u001b[0m\u001b[1;33m\u001b[0m\u001b[1;33m\u001b[0m\u001b[0m\n",
      "\u001b[1;32mE:\\ProgramData\\Anaconda3\\lib\\site-packages\\tensorflow\\python\\eager\\def_function.py\u001b[0m in \u001b[0;36m_initialize\u001b[1;34m(self, args, kwds, add_initializers_to)\u001b[0m\n\u001b[0;32m    761\u001b[0m     \u001b[0mself\u001b[0m\u001b[1;33m.\u001b[0m\u001b[0m_graph_deleter\u001b[0m \u001b[1;33m=\u001b[0m \u001b[0mFunctionDeleter\u001b[0m\u001b[1;33m(\u001b[0m\u001b[0mself\u001b[0m\u001b[1;33m.\u001b[0m\u001b[0m_lifted_initializer_graph\u001b[0m\u001b[1;33m)\u001b[0m\u001b[1;33m\u001b[0m\u001b[1;33m\u001b[0m\u001b[0m\n\u001b[0;32m    762\u001b[0m     self._concrete_stateful_fn = (\n\u001b[1;32m--> 763\u001b[1;33m         self._stateful_fn._get_concrete_function_internal_garbage_collected(  # pylint: disable=protected-access\n\u001b[0m\u001b[0;32m    764\u001b[0m             *args, **kwds))\n\u001b[0;32m    765\u001b[0m \u001b[1;33m\u001b[0m\u001b[0m\n",
      "\u001b[1;32mE:\\ProgramData\\Anaconda3\\lib\\site-packages\\tensorflow\\python\\eager\\function.py\u001b[0m in \u001b[0;36m_get_concrete_function_internal_garbage_collected\u001b[1;34m(self, *args, **kwargs)\u001b[0m\n\u001b[0;32m   3048\u001b[0m       \u001b[0margs\u001b[0m\u001b[1;33m,\u001b[0m \u001b[0mkwargs\u001b[0m \u001b[1;33m=\u001b[0m \u001b[1;32mNone\u001b[0m\u001b[1;33m,\u001b[0m \u001b[1;32mNone\u001b[0m\u001b[1;33m\u001b[0m\u001b[1;33m\u001b[0m\u001b[0m\n\u001b[0;32m   3049\u001b[0m     \u001b[1;32mwith\u001b[0m \u001b[0mself\u001b[0m\u001b[1;33m.\u001b[0m\u001b[0m_lock\u001b[0m\u001b[1;33m:\u001b[0m\u001b[1;33m\u001b[0m\u001b[1;33m\u001b[0m\u001b[0m\n\u001b[1;32m-> 3050\u001b[1;33m       \u001b[0mgraph_function\u001b[0m\u001b[1;33m,\u001b[0m \u001b[0m_\u001b[0m \u001b[1;33m=\u001b[0m \u001b[0mself\u001b[0m\u001b[1;33m.\u001b[0m\u001b[0m_maybe_define_function\u001b[0m\u001b[1;33m(\u001b[0m\u001b[0margs\u001b[0m\u001b[1;33m,\u001b[0m \u001b[0mkwargs\u001b[0m\u001b[1;33m)\u001b[0m\u001b[1;33m\u001b[0m\u001b[1;33m\u001b[0m\u001b[0m\n\u001b[0m\u001b[0;32m   3051\u001b[0m     \u001b[1;32mreturn\u001b[0m \u001b[0mgraph_function\u001b[0m\u001b[1;33m\u001b[0m\u001b[1;33m\u001b[0m\u001b[0m\n\u001b[0;32m   3052\u001b[0m \u001b[1;33m\u001b[0m\u001b[0m\n",
      "\u001b[1;32mE:\\ProgramData\\Anaconda3\\lib\\site-packages\\tensorflow\\python\\eager\\function.py\u001b[0m in \u001b[0;36m_maybe_define_function\u001b[1;34m(self, args, kwargs)\u001b[0m\n\u001b[0;32m   3442\u001b[0m \u001b[1;33m\u001b[0m\u001b[0m\n\u001b[0;32m   3443\u001b[0m           \u001b[0mself\u001b[0m\u001b[1;33m.\u001b[0m\u001b[0m_function_cache\u001b[0m\u001b[1;33m.\u001b[0m\u001b[0mmissed\u001b[0m\u001b[1;33m.\u001b[0m\u001b[0madd\u001b[0m\u001b[1;33m(\u001b[0m\u001b[0mcall_context_key\u001b[0m\u001b[1;33m)\u001b[0m\u001b[1;33m\u001b[0m\u001b[1;33m\u001b[0m\u001b[0m\n\u001b[1;32m-> 3444\u001b[1;33m           \u001b[0mgraph_function\u001b[0m \u001b[1;33m=\u001b[0m \u001b[0mself\u001b[0m\u001b[1;33m.\u001b[0m\u001b[0m_create_graph_function\u001b[0m\u001b[1;33m(\u001b[0m\u001b[0margs\u001b[0m\u001b[1;33m,\u001b[0m \u001b[0mkwargs\u001b[0m\u001b[1;33m)\u001b[0m\u001b[1;33m\u001b[0m\u001b[1;33m\u001b[0m\u001b[0m\n\u001b[0m\u001b[0;32m   3445\u001b[0m           \u001b[0mself\u001b[0m\u001b[1;33m.\u001b[0m\u001b[0m_function_cache\u001b[0m\u001b[1;33m.\u001b[0m\u001b[0mprimary\u001b[0m\u001b[1;33m[\u001b[0m\u001b[0mcache_key\u001b[0m\u001b[1;33m]\u001b[0m \u001b[1;33m=\u001b[0m \u001b[0mgraph_function\u001b[0m\u001b[1;33m\u001b[0m\u001b[1;33m\u001b[0m\u001b[0m\n\u001b[0;32m   3446\u001b[0m \u001b[1;33m\u001b[0m\u001b[0m\n",
      "\u001b[1;32mE:\\ProgramData\\Anaconda3\\lib\\site-packages\\tensorflow\\python\\eager\\function.py\u001b[0m in \u001b[0;36m_create_graph_function\u001b[1;34m(self, args, kwargs, override_flat_arg_shapes)\u001b[0m\n\u001b[0;32m   3277\u001b[0m     \u001b[0marg_names\u001b[0m \u001b[1;33m=\u001b[0m \u001b[0mbase_arg_names\u001b[0m \u001b[1;33m+\u001b[0m \u001b[0mmissing_arg_names\u001b[0m\u001b[1;33m\u001b[0m\u001b[1;33m\u001b[0m\u001b[0m\n\u001b[0;32m   3278\u001b[0m     graph_function = ConcreteFunction(\n\u001b[1;32m-> 3279\u001b[1;33m         func_graph_module.func_graph_from_py_func(\n\u001b[0m\u001b[0;32m   3280\u001b[0m             \u001b[0mself\u001b[0m\u001b[1;33m.\u001b[0m\u001b[0m_name\u001b[0m\u001b[1;33m,\u001b[0m\u001b[1;33m\u001b[0m\u001b[1;33m\u001b[0m\u001b[0m\n\u001b[0;32m   3281\u001b[0m             \u001b[0mself\u001b[0m\u001b[1;33m.\u001b[0m\u001b[0m_python_function\u001b[0m\u001b[1;33m,\u001b[0m\u001b[1;33m\u001b[0m\u001b[1;33m\u001b[0m\u001b[0m\n",
      "\u001b[1;32mE:\\ProgramData\\Anaconda3\\lib\\site-packages\\tensorflow\\python\\framework\\func_graph.py\u001b[0m in \u001b[0;36mfunc_graph_from_py_func\u001b[1;34m(name, python_func, args, kwargs, signature, func_graph, autograph, autograph_options, add_control_dependencies, arg_names, op_return_value, collections, capture_by_value, override_flat_arg_shapes)\u001b[0m\n\u001b[0;32m    997\u001b[0m         \u001b[0m_\u001b[0m\u001b[1;33m,\u001b[0m \u001b[0moriginal_func\u001b[0m \u001b[1;33m=\u001b[0m \u001b[0mtf_decorator\u001b[0m\u001b[1;33m.\u001b[0m\u001b[0munwrap\u001b[0m\u001b[1;33m(\u001b[0m\u001b[0mpython_func\u001b[0m\u001b[1;33m)\u001b[0m\u001b[1;33m\u001b[0m\u001b[1;33m\u001b[0m\u001b[0m\n\u001b[0;32m    998\u001b[0m \u001b[1;33m\u001b[0m\u001b[0m\n\u001b[1;32m--> 999\u001b[1;33m       \u001b[0mfunc_outputs\u001b[0m \u001b[1;33m=\u001b[0m \u001b[0mpython_func\u001b[0m\u001b[1;33m(\u001b[0m\u001b[1;33m*\u001b[0m\u001b[0mfunc_args\u001b[0m\u001b[1;33m,\u001b[0m \u001b[1;33m**\u001b[0m\u001b[0mfunc_kwargs\u001b[0m\u001b[1;33m)\u001b[0m\u001b[1;33m\u001b[0m\u001b[1;33m\u001b[0m\u001b[0m\n\u001b[0m\u001b[0;32m   1000\u001b[0m \u001b[1;33m\u001b[0m\u001b[0m\n\u001b[0;32m   1001\u001b[0m       \u001b[1;31m# invariant: `func_outputs` contains only Tensors, CompositeTensors,\u001b[0m\u001b[1;33m\u001b[0m\u001b[1;33m\u001b[0m\u001b[1;33m\u001b[0m\u001b[0m\n",
      "\u001b[1;32mE:\\ProgramData\\Anaconda3\\lib\\site-packages\\tensorflow\\python\\eager\\def_function.py\u001b[0m in \u001b[0;36mwrapped_fn\u001b[1;34m(*args, **kwds)\u001b[0m\n\u001b[0;32m    670\u001b[0m         \u001b[1;31m# the function a weak reference to itself to avoid a reference cycle.\u001b[0m\u001b[1;33m\u001b[0m\u001b[1;33m\u001b[0m\u001b[1;33m\u001b[0m\u001b[0m\n\u001b[0;32m    671\u001b[0m         \u001b[1;32mwith\u001b[0m \u001b[0mOptionalXlaContext\u001b[0m\u001b[1;33m(\u001b[0m\u001b[0mcompile_with_xla\u001b[0m\u001b[1;33m)\u001b[0m\u001b[1;33m:\u001b[0m\u001b[1;33m\u001b[0m\u001b[1;33m\u001b[0m\u001b[0m\n\u001b[1;32m--> 672\u001b[1;33m           \u001b[0mout\u001b[0m \u001b[1;33m=\u001b[0m \u001b[0mweak_wrapped_fn\u001b[0m\u001b[1;33m(\u001b[0m\u001b[1;33m)\u001b[0m\u001b[1;33m.\u001b[0m\u001b[0m__wrapped__\u001b[0m\u001b[1;33m(\u001b[0m\u001b[1;33m*\u001b[0m\u001b[0margs\u001b[0m\u001b[1;33m,\u001b[0m \u001b[1;33m**\u001b[0m\u001b[0mkwds\u001b[0m\u001b[1;33m)\u001b[0m\u001b[1;33m\u001b[0m\u001b[1;33m\u001b[0m\u001b[0m\n\u001b[0m\u001b[0;32m    673\u001b[0m         \u001b[1;32mreturn\u001b[0m \u001b[0mout\u001b[0m\u001b[1;33m\u001b[0m\u001b[1;33m\u001b[0m\u001b[0m\n\u001b[0;32m    674\u001b[0m \u001b[1;33m\u001b[0m\u001b[0m\n",
      "\u001b[1;32mE:\\ProgramData\\Anaconda3\\lib\\site-packages\\tensorflow\\python\\framework\\func_graph.py\u001b[0m in \u001b[0;36mwrapper\u001b[1;34m(*args, **kwargs)\u001b[0m\n\u001b[0;32m    984\u001b[0m           \u001b[1;32mexcept\u001b[0m \u001b[0mException\u001b[0m \u001b[1;32mas\u001b[0m \u001b[0me\u001b[0m\u001b[1;33m:\u001b[0m  \u001b[1;31m# pylint:disable=broad-except\u001b[0m\u001b[1;33m\u001b[0m\u001b[1;33m\u001b[0m\u001b[0m\n\u001b[0;32m    985\u001b[0m             \u001b[1;32mif\u001b[0m \u001b[0mhasattr\u001b[0m\u001b[1;33m(\u001b[0m\u001b[0me\u001b[0m\u001b[1;33m,\u001b[0m \u001b[1;34m\"ag_error_metadata\"\u001b[0m\u001b[1;33m)\u001b[0m\u001b[1;33m:\u001b[0m\u001b[1;33m\u001b[0m\u001b[1;33m\u001b[0m\u001b[0m\n\u001b[1;32m--> 986\u001b[1;33m               \u001b[1;32mraise\u001b[0m \u001b[0me\u001b[0m\u001b[1;33m.\u001b[0m\u001b[0mag_error_metadata\u001b[0m\u001b[1;33m.\u001b[0m\u001b[0mto_exception\u001b[0m\u001b[1;33m(\u001b[0m\u001b[0me\u001b[0m\u001b[1;33m)\u001b[0m\u001b[1;33m\u001b[0m\u001b[1;33m\u001b[0m\u001b[0m\n\u001b[0m\u001b[0;32m    987\u001b[0m             \u001b[1;32melse\u001b[0m\u001b[1;33m:\u001b[0m\u001b[1;33m\u001b[0m\u001b[1;33m\u001b[0m\u001b[0m\n\u001b[0;32m    988\u001b[0m               \u001b[1;32mraise\u001b[0m\u001b[1;33m\u001b[0m\u001b[1;33m\u001b[0m\u001b[0m\n",
      "\u001b[1;31mValueError\u001b[0m: in user code:\n\n    E:\\ProgramData\\Anaconda3\\lib\\site-packages\\tensorflow\\python\\keras\\engine\\training.py:1569 predict_function  *\n        return step_function(self, iterator)\n    E:\\ProgramData\\Anaconda3\\lib\\site-packages\\tensorflow\\python\\keras\\engine\\training.py:1559 step_function  **\n        outputs = model.distribute_strategy.run(run_step, args=(data,))\n    E:\\ProgramData\\Anaconda3\\lib\\site-packages\\tensorflow\\python\\distribute\\distribute_lib.py:1285 run\n        return self._extended.call_for_each_replica(fn, args=args, kwargs=kwargs)\n    E:\\ProgramData\\Anaconda3\\lib\\site-packages\\tensorflow\\python\\distribute\\distribute_lib.py:2833 call_for_each_replica\n        return self._call_for_each_replica(fn, args, kwargs)\n    E:\\ProgramData\\Anaconda3\\lib\\site-packages\\tensorflow\\python\\distribute\\distribute_lib.py:3608 _call_for_each_replica\n        return fn(*args, **kwargs)\n    E:\\ProgramData\\Anaconda3\\lib\\site-packages\\tensorflow\\python\\keras\\engine\\training.py:1552 run_step  **\n        outputs = model.predict_step(data)\n    E:\\ProgramData\\Anaconda3\\lib\\site-packages\\tensorflow\\python\\keras\\engine\\training.py:1525 predict_step\n        return self(x, training=False)\n    E:\\ProgramData\\Anaconda3\\lib\\site-packages\\tensorflow\\python\\keras\\engine\\base_layer.py:1030 __call__\n        outputs = call_fn(inputs, *args, **kwargs)\n    E:\\ProgramData\\Anaconda3\\lib\\site-packages\\tensorflow\\python\\keras\\engine\\sequential.py:380 call\n        return super(Sequential, self).call(inputs, training=training, mask=mask)\n    E:\\ProgramData\\Anaconda3\\lib\\site-packages\\tensorflow\\python\\keras\\engine\\functional.py:420 call\n        return self._run_internal_graph(\n    E:\\ProgramData\\Anaconda3\\lib\\site-packages\\tensorflow\\python\\keras\\engine\\functional.py:556 _run_internal_graph\n        outputs = node.layer(*args, **kwargs)\n    E:\\ProgramData\\Anaconda3\\lib\\site-packages\\tensorflow\\python\\keras\\engine\\base_layer.py:1013 __call__\n        input_spec.assert_input_compatibility(self.input_spec, inputs, self.name)\n    E:\\ProgramData\\Anaconda3\\lib\\site-packages\\tensorflow\\python\\keras\\engine\\input_spec.py:251 assert_input_compatibility\n        raise ValueError(\n\n    ValueError: Input 0 of layer dense is incompatible with the layer: expected axis -1 of input shape to have value 2700000 but received input with shape (None, 3600)\n"
     ]
    }
   ],
   "source": [
    "target_size=(1200, 750)\n",
    "predictions = []\n",
    "cat = 0 \n",
    "for __ in folder1_files:\n",
    "    path = f'{TEST_PREFIX}/{__}'\n",
    "    img = cv2.imread(path, cv2.IMREAD_COLOR)\n",
    "    if img is not None:\n",
    "        img_resized = cv2.resize(img, target_size)\n",
    "        img_file = vgg16.preprocess_input(img_resized.astype(np.float32))\n",
    "        img_arr = np.asarray(img_file)\n",
    "        img_arr = img_arr / 255.0 \n",
    "        prediction = model.predict(np.asarray(img_arr))\n",
    "        predictions.append(img_arr)\n",
    "predictions = np.asarray(predictions) # Keras only accepts data as numpy arrays        \n"
   ]
  },
  {
   "cell_type": "code",
   "execution_count": null,
   "id": "7c175843",
   "metadata": {},
   "outputs": [],
   "source": []
  }
 ],
 "metadata": {
  "kernelspec": {
   "display_name": "Python 3",
   "language": "python",
   "name": "python3"
  },
  "language_info": {
   "codemirror_mode": {
    "name": "ipython",
    "version": 3
   },
   "file_extension": ".py",
   "mimetype": "text/x-python",
   "name": "python",
   "nbconvert_exporter": "python",
   "pygments_lexer": "ipython3",
   "version": "3.8.8"
  }
 },
 "nbformat": 4,
 "nbformat_minor": 5
}
