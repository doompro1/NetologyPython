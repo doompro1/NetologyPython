{
 "cells": [
  {
   "cell_type": "markdown",
   "metadata": {},
   "source": [
    "### Задание\n",
    "\n",
    "При фиксированном seed=42 поразбирайтесь и поэкспериментируйте с параметрами алгоритма дифференциальной эволюции:\n",
    "strategy, popsize, tol, mutation, recombination и updating.\n",
    "\n",
    "Постройте графики количества итераций оптимизации функции ackley от значения параметра.\n",
    "\n",
    "#### Допзадание\n",
    "\n",
    "Найти множество параметров (strategy=..., ..., updating=...), которые требуют минимального количества итераций."
   ]
  },
  {
   "cell_type": "code",
   "execution_count": 1,
   "metadata": {},
   "outputs": [
    {
     "data": {
      "text/html": [
       "        <script type=\"text/javascript\">\n",
       "        window.PlotlyConfig = {MathJaxConfig: 'local'};\n",
       "        if (window.MathJax) {MathJax.Hub.Config({SVG: {font: \"STIX-Web\"}});}\n",
       "        if (typeof require !== 'undefined') {\n",
       "        require.undef(\"plotly\");\n",
       "        requirejs.config({\n",
       "            paths: {\n",
       "                'plotly': ['https://cdn.plot.ly/plotly-latest.min']\n",
       "            }\n",
       "        });\n",
       "        require(['plotly'], function(Plotly) {\n",
       "            window._Plotly = Plotly;\n",
       "        });\n",
       "        }\n",
       "        </script>\n",
       "        "
      ]
     },
     "metadata": {},
     "output_type": "display_data"
    }
   ],
   "source": [
    "import numpy as np\n",
    "from scipy.optimize import differential_evolution\n",
    "import pandas as pd\n",
    "import matplotlib.pyplot as plt\n",
    "from pylab import rcParams\n",
    "rcParams['figure.figsize'] = 10,7\n",
    "from plotly.offline import init_notebook_mode, iplot\n",
    "import plotly\n",
    "import plotly.graph_objs as go\n",
    "init_notebook_mode(connected=True)"
   ]
  },
  {
   "cell_type": "code",
   "execution_count": null,
   "metadata": {},
   "outputs": [],
   "source": [
    "def ackley(x):\n",
    "    arg1 = -0.2 * np.sqrt(0.5 * (x[0] ** 2 + x[1] ** 2))\n",
    "    arg2 = 0.5 * (np.cos(2. * np.pi * x[0]) + np.cos(2. * np.pi * x[1]))\n",
    "    return -20. * np.exp(arg1) - np.exp(arg2) + 20. + np.e\n",
    "strat = ['best1bin' , 'best1exp' , 'rand1exp' , 'randtobest1exp' , 'currenttobest1exp' , 'best2exp' , 'rand2exp' , 'randtobest1bin' , 'currenttobest1bin' , 'best2bin' , 'rand2bin' , 'rand1bin']\n",
    "upd = ['immediate', 'deferred']\n",
    "bounds = [(-10, 10), (-10, 10)]\n",
    "nfev_imm = []\n",
    "nfev_def = []\n",
    "nit_imm = []\n",
    "nit_def = []\n",
    "for up in upd : \n",
    "    for st in strat: \n",
    "        result = differential_evolution(ackley, bounds, strategy=st , popsize=15, tol=0.01, mutation=0.5,recombination=0.7, seed=42 , updating= up)\n",
    "        if up == 'immediate':\n",
    "            nfev_imm.append(result['nfev'])\n",
    "            nit_imm.append(result['nit'])\n",
    "        else :\n",
    "            nfev_def.append(result['nfev'])\n",
    "            nit_def.append(result['nit']) \n",
    "all_ni = nit_imm + nit_def\n",
    "all_nf = nfev_imm + nfev_def\n",
    "strat_imm = []\n",
    "for _ in strat: \n",
    "    __ = _ + ' + immediate'\n",
    "    strat_imm.append(__)\n",
    "strat_def = []\n",
    "for _ in strat: \n",
    "    __ = _ + ' + deferred'\n",
    "    strat_def.append(__)\n",
    "strat_all = strat_imm + strat_def  \n",
    "df = pd.DataFrame({'nit': all_ni , 'nfev' :  all_nf, 'stategy and upd' :  strat_all})\n",
    "df.sort_values(by='nfev')\n"
   ]
  },
  {
   "cell_type": "code",
   "execution_count": null,
   "metadata": {},
   "outputs": [],
   "source": [
    "df_top10 = df.head(10)\n",
    "trace0 = go.Bar(\n",
    "    x=df_top10['stategy and upd'],\n",
    "    y=df_top10.nfev,\n",
    "    name='nfev',\n",
    "    orientation = 'v'\n",
    ")\n",
    "\n",
    "trace1 = go.Bar(\n",
    "    x=df_top10['stategy and upd'],\n",
    "    y=df_top10.nit,\n",
    "    name='nit',\n",
    "    orientation = 'v'\n",
    ")\n",
    "\n",
    "data = [trace0, trace1]\n",
    "layout = {'title': 'Optimisation'}\n",
    "\n",
    "fig = go.Figure(data=data, layout=layout)\n",
    "\n",
    "iplot(fig)"
   ]
  }
 ],
 "metadata": {
  "kernelspec": {
   "display_name": "Python 3",
   "language": "python",
   "name": "python3"
  },
  "language_info": {
   "codemirror_mode": {
    "name": "ipython",
    "version": 3
   },
   "file_extension": ".py",
   "mimetype": "text/x-python",
   "name": "python",
   "nbconvert_exporter": "python",
   "pygments_lexer": "ipython3",
   "version": "3.8.3"
  }
 },
 "nbformat": 4,
 "nbformat_minor": 2
}
