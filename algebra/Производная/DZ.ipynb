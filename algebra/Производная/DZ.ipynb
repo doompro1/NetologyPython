{
 "cells": [
  {
   "cell_type": "markdown",
   "metadata": {},
   "source": [
    "Уровень 0\n",
    "посчитайте значение 1-ой и 2-ой производной фунции\n",
    "f(x) = x^5 + 4sin(2x) + cos(3x+3) в точке x = 1\n"
   ]
  },
  {
   "cell_type": "code",
   "execution_count": 1,
   "metadata": {},
   "outputs": [
    {
     "name": "stdout",
     "output_type": "stream",
     "text": [
      "2.50907180221964\n"
     ]
    }
   ],
   "source": [
    "from __future__ import division\n",
    "from sympy import *\n",
    "x, y = symbols('x y')\n",
    "p1 = diff(x ** 5 + 4 * sin(2 * x) + cos(3* x + 3))\n",
    "p2 = diff(p1)\n",
    "print(p1.evalf(subs={x: 1}))"
   ]
  },
  {
   "cell_type": "code",
   "execution_count": 2,
   "metadata": {},
   "outputs": [
    {
     "name": "stdout",
     "output_type": "stream",
     "text": [
      "-3.19029140906420\n"
     ]
    }
   ],
   "source": [
    "print(p2.evalf(subs={x: 1}))"
   ]
  },
  {
   "cell_type": "markdown",
   "metadata": {},
   "source": [
    "Постройте график первой и второй производной функции\n",
    "(sin(2x+1))^5\n",
    "на отрезке [-5; 5]"
   ]
  },
  {
   "cell_type": "code",
   "execution_count": null,
   "metadata": {},
   "outputs": [],
   "source": [
    "import numpy as np\n",
    "import matplotlib.pyplot as plt\n",
    "import pandas as pd\n",
    "import math\n",
    "from sympy import diff, symbols, cos, sin\n",
    "x, y = symbols('x y')\n",
    "p1 = diff((sin(2 * x + 1 ) ) ** 5)\n",
    "p2 = diff(p1)\n",
    "x1 = np.linspace(-5.0, 5.0, 5000)\n",
    "y1 = [p1.evalf(subs={x: i}) for i in range(len(x1))]\n",
    "plt.plot(x1, y1, '.')\n",
    "plt.title('График функции')\n",
    "plt.ylabel('y')\n",
    "plt.xlabel('x')\n",
    "plt.show()"
   ]
  },
  {
   "cell_type": "code",
   "execution_count": null,
   "metadata": {},
   "outputs": [],
   "source": [
    "x1 = np.linspace(-5.0, 5.0, 5000)\n",
    "y1 = [p2.evalf(subs={x: i}) for i in range(len(x1))]\n",
    "plt.plot(x1, y1, '.')\n",
    "plt.title('График функции')\n",
    "plt.ylabel('y')\n",
    "plt.xlabel('x')\n",
    "plt.show()"
   ]
  }
 ],
 "metadata": {
  "kernelspec": {
   "display_name": "Python 3",
   "language": "python",
   "name": "python3"
  },
  "language_info": {
   "codemirror_mode": {
    "name": "ipython",
    "version": 3
   },
   "file_extension": ".py",
   "mimetype": "text/x-python",
   "name": "python",
   "nbconvert_exporter": "python",
   "pygments_lexer": "ipython3",
   "version": "3.8.3"
  }
 },
 "nbformat": 4,
 "nbformat_minor": 4
}
