{
 "cells": [
  {
   "cell_type": "markdown",
   "metadata": {},
   "source": [
    "Вы работаете секретарем и вам постоянно приходят различные документы. Вы должны быть очень внимательны, чтобы не потерять ни один документ. Каталог документов хранится в следующем виде:"
   ]
  },
  {
   "cell_type": "code",
   "execution_count": 123,
   "metadata": {},
   "outputs": [],
   "source": [
    "documents = [\n",
    "    {'type': 'passport', 'number': '2207 876234', 'name': 'Василий Гупкин'},\n",
    "    {'type': 'invoice', 'number': '11-2', 'name': 'Геннадий Покемонов'},\n",
    "    {'type': 'insurance', 'number': '10006', 'name': 'Аристарх Павлов'}\n",
    "]"
   ]
  },
  {
   "cell_type": "markdown",
   "metadata": {},
   "source": [
    "Перечень полок, на которых находятся документы хранится в следующем виде:"
   ]
  },
  {
   "cell_type": "code",
   "execution_count": 124,
   "metadata": {},
   "outputs": [],
   "source": [
    "directories = {\n",
    "    '1': ['2207 876234', '11-2'],\n",
    "    '2': ['10006'],\n",
    "    '3': []\n",
    "}"
   ]
  },
  {
   "cell_type": "markdown",
   "metadata": {},
   "source": [
    "Необходимо реализовать пользовательские команды (внимание! это не название функций, которые должны быть выразительными, а команды, которые вводит пользователь, чтобы получить необходимый результат):\n",
    "  \n",
    "- p – people – команда, которая спросит номер документа и выведет имя человека, которому он принадлежит;  \n",
    "- s – shelf – команда, которая спросит номер документа и выведет номер полки, на которой он находится  \n",
    "*Правильно обработайте ситуации, когда пользователь будет вводить несуществующий документ*.\n",
    "- l – list – команда, которая выведет список всех документов в формате   \n",
    "**passport \"2207 876234\" \"Василий Гупкин\"**  \n",
    "- as – add shelf – команда, которая спросит номер новой полки и добавит ее в перечень. *Предусмотрите случай, когда пользователь добавляет полку, которая уже существует*.\n",
    "- d – delete – команда, которая спросит номер документа и удалит его из каталога и из перечня полок. *Предусмотрите сценарий, когда пользователь вводит несуществующий документ*;  \n",
    "- m – move – команда, которая спросит номер документа и целевую полку и переместит его с текущей полки на целевую. *Корректно обработайте кейсы, когда пользователь пытается переместить несуществующий документ или переместить документ на несуществующую полку*;  \n",
    "- a – add – команда, которая добавит новый документ в каталог и в перечень полок, спросив его номер, тип, имя владельца и номер полки, на котором он будет храниться. *Корректно обработайте ситуацию, когда пользователь будет пытаться добавить документ на несуществующую полку*."
   ]
  },
  {
   "cell_type": "markdown",
   "metadata": {},
   "source": [
    "До самодокументированного кода мне ещё далеко , поэтому вот "
   ]
  },
  {
   "cell_type": "code",
   "execution_count": 120,
   "metadata": {},
   "outputs": [
    {
     "name": "stdout",
     "output_type": "stream",
     "text": [
      "Введите команду: m\n",
      "Введите тип документа по-английски: 1\n",
      "Веедите номер документа: 1\n",
      "ВВедите номер полки на которую необходимо переместить документ: 6\n"
     ]
    }
   ],
   "source": [
    "# show owner of doc\n",
    "def p(type_doc, number_doc):\n",
    "    global name_in_doc\n",
    "    name_in_doc = [doc['name'] for doc in documents if doc['type'] == type_doc and doc['number'] == number_doc ]\n",
    "    return name_in_doc\n",
    "\n",
    "###### Show shelf where document is        \n",
    "def s(number_doc):\n",
    "    global answer\n",
    "    for key, value in directories.items():\n",
    "        for x in value :\n",
    "            if x == number_doc :\n",
    "                answer = key\n",
    "    return answer\n",
    "####### show all documents in format \"passport \"2207 876234\" \"Василий Гупкин\"\"\n",
    "def l():\n",
    "    for x in documents:\n",
    "        origin = []\n",
    "        x = [origin.append(doc) for doc in x.values() ]\n",
    "#### Я художник , я так вижу....... \n",
    "        print(origin[0], ' \"' , origin[1] , '\" ' , '\"' , origin[2] ,  '\"' , sep = \"\")\n",
    "\n",
    "###### add new shelf\n",
    "def a_s(new_s): \n",
    "    if new_s in directories:\n",
    "        print('Такая полка уже существует')\n",
    "    else:\n",
    "        directories[new_s] = []\n",
    "        print(f\"Полка {new_s} добавлена \")\n",
    "###### delii doc from documents\n",
    "def d(name_in_doc) :\n",
    "    delled = [doc for doc in documents if doc['name'] == name_in_doc[0]]\n",
    "    documents.remove(delled[0])\n",
    "    return documents \n",
    "###### move doc from one shelf to another\n",
    "def m(number_doc, s_move):\n",
    "    for key , val in directories.items() : \n",
    "        if number_doc in val:\n",
    "            val.remove(number_doc)\n",
    "    for key , val in directories.items():\n",
    "        if key == s_move : \n",
    "            val.append(number_doc)\n",
    "    \n",
    "    \n",
    "####### check doc in documents     \n",
    "def rd(type_doc, number_doc, owner_name):\n",
    "    global realdoc\n",
    "    realdoc = [doc for doc in documents if doc['type'] == type_doc and doc['number'] == number_doc and doc['name'] == owner_name ]\n",
    "    return realdoc\n",
    "####### add doc to documents and directories\n",
    "def add_doc(type_doc , number_doc, owner_name, doc_sh):\n",
    "    documents.append({'type': type_doc , 'number': number_doc, 'name': owner_name})\n",
    "    for key , val in directories.items():\n",
    "        if key ==  doc_sh : \n",
    "            val.append(number_doc)\n",
    "\n",
    "\n",
    "\n",
    "command = input(\"Введите команду: \")\n",
    "if command == \"p\" :\n",
    "    type_doc = input(\"Введите тип документа по-английски: \")\n",
    "    number_doc = input(\"Веедите номер документа: \")\n",
    "    p(type_doc, number_doc)\n",
    "    if name_in_doc != []:\n",
    "        print(name_in_doc[0])\n",
    "    else: \n",
    "        print(\"Нет совпадений.\")\n",
    "if command == \"s\" :\n",
    "    number_doc = input(\"Веедите номер документа: \")\n",
    "    answer = \"Такого документа нет на полках.\"\n",
    "    s(number_doc)\n",
    "    print(answer)\n",
    "        \n",
    "if command == \"l\" :\n",
    "    l()\n",
    "if command == \"as\" :\n",
    "    new_s = input(\"Веедите номер новой полки: \")\n",
    "    a_s(new_s)\n",
    "if command == \"d\" :\n",
    "    type_doc = input(\"Введите тип документа по-английски, который хотеите удалить: \")\n",
    "    number_doc = input(\"Веедите номер документа, который хотеите удалить: \")\n",
    "    p(type_doc, number_doc)\n",
    "    if name_in_doc != []:\n",
    "        d(name_in_doc)\n",
    "    else: \n",
    "        print(\"Такого документа нет.\")\n",
    "if command == \"m\" :\n",
    "    type_doc = input(\"Введите тип документа по-английски: \")\n",
    "    number_doc = input(\"Веедите номер документа: \")\n",
    "    s_move = input(\"ВВедите номер полки на которую необходимо переместить документ: \")\n",
    "    p(type_doc, number_doc)\n",
    "    if name_in_doc != []:\n",
    "        s(number_doc)\n",
    "        if answer != \"Такого документа нет на полках.\":\n",
    "            if s_move in directories:\n",
    "                m(number_doc, s_move)\n",
    "            else :\n",
    "                print('Такая полка не существует, чтобы создать её введите команду \"as\" ')\n",
    "        else:\n",
    "            print(answer)\n",
    "    else: \n",
    "        print(\"Нет совпадений по документу.\")\n",
    "if command == \"a\": \n",
    "    type_doc = input(\"Введите тип документа: \")\n",
    "    number_doc = input(\"Веедите номер документа: \")\n",
    "    owner_name = input(\"Введите ФИО владельца\")\n",
    "    doc_sh = input(\"ВВедите номер полки на которую необходимо поместить документ: \")\n",
    "    rd(type_doc, number_doc, owner_name)\n",
    "    if realdoc == []: \n",
    "            if doc_sh in directories:\n",
    "                add_doc(type_doc , number_doc, owner_name, doc_sh)\n",
    "            else :\n",
    "                print('Такая полка не существует, чтобы создать её введите команду \"as\" ')\n",
    "        \n",
    "    else :\n",
    "        print(\"Документ уже существует , если вы просто хотите его переместить советую использовать команду 'm' \")\n",
    "    "
   ]
  },
  {
   "cell_type": "code",
   "execution_count": 125,
   "metadata": {},
   "outputs": [
    {
     "name": "stdout",
     "output_type": "stream",
     "text": [
      "[{'type': 'passport', 'number': '2207 876234', 'name': 'Василий Гупкин'}, {'type': 'invoice', 'number': '11-2', 'name': 'Геннадий Покемонов'}, {'type': 'insurance', 'number': '10006', 'name': 'Аристарх Павлов'}]\n",
      "{'1': ['2207 876234', '11-2'], '2': ['10006'], '3': []}\n"
     ]
    }
   ],
   "source": [
    "#### Чтобв было проще проверять \n",
    "print(documents)\n",
    "print(directories)"
   ]
  }
 ],
 "metadata": {
  "kernelspec": {
   "display_name": "Python 3",
   "language": "python",
   "name": "python3"
  },
  "language_info": {
   "codemirror_mode": {
    "name": "ipython",
    "version": 3
   },
   "file_extension": ".py",
   "mimetype": "text/x-python",
   "name": "python",
   "nbconvert_exporter": "python",
   "pygments_lexer": "ipython3",
   "version": "3.7.4"
  }
 },
 "nbformat": 4,
 "nbformat_minor": 2
}
