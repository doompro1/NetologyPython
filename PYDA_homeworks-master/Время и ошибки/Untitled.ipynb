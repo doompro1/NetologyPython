{
 "cells": [
  {
   "cell_type": "markdown",
   "metadata": {},
   "source": [
    "Задание 1\n",
    "Печатные газеты использовали свой формат дат для каждого выпуска. Для каждой газеты из списка напишите формат указанной даты для перевода в объект datetime:\n",
    "The Moscow Times - Wednesday, October 2, 2002\n",
    "The Guardian - Friday, 11.10.13\n",
    "Daily News - Thursday, 18 August 1977"
   ]
  },
  {
   "cell_type": "code",
   "execution_count": null,
   "metadata": {},
   "outputs": [],
   "source": [
    "from datetime import datetime\n",
    "\n",
    "The_Moscow_Times = 'Wednesday, October 2, 2002'\n",
    "TMT = datetime.strptime(The_Moscow_Times, '%A, %B %d, %Y')\n",
    "print(type(TMT) , TMT)\n",
    "\n",
    "The_Guardian = 'Friday, 11.10.13'\n",
    "try:\n",
    "    TG = datetime.strptime(The_Guardian, '%A, %d.%m.%y')\n",
    "except():\n",
    "    TG = datetime.strptime(The_Guardian, '%A, %d.%y.%m')\n",
    "except():\n",
    "    TG = datetime.strptime(The_Guardian, '%A, %m.%d.%y')\n",
    "except():\n",
    "    TG = datetime.strptime(The_Guardian, '%A, %m.%y.%d')\n",
    "except():\n",
    "    TG = datetime.strptime(The_Guardian, '%A, %y.%m.%d')\n",
    "except():\n",
    "    TG = datetime.strptime(The_Guardian, '%A, %y.%d.%m')\n",
    "print(type(TG) , TG)\n",
    "    \n",
    "Daily_News = 'Thursday, 18 August 1977'\n",
    "\n",
    "DN = datetime.strptime(Daily_News, '%A, %d %B %Y')\n",
    "print(type(DN) , DN)\n"
   ]
  },
  {
   "cell_type": "markdown",
   "metadata": {},
   "source": [
    "Задание 2\n",
    "Дан поток дат в формате YYYY-MM-DD, в которых встречаются некорректные значения:\n",
    "stream = [‘2018-04-02’, ‘2018-02-29’, ‘2018-19-02’]\n",
    "\n",
    "Напишите функцию, которая проверяет эти даты на корректность. Т. е. для каждой даты возвращает True (дата корректна) или False (некорректная дата)."
   ]
  },
  {
   "cell_type": "code",
   "execution_count": null,
   "metadata": {},
   "outputs": [],
   "source": [
    "\n",
    "def Stream_Time(stream) :\n",
    "    from datetime import datetime\n",
    "    res_stream = []\n",
    "    result = {}\n",
    "    t = 'True'\n",
    "    f = 'False'\n",
    "    for x in stream :\n",
    "        try: \n",
    "            SD = datetime.strptime(x, '%Y-%m-%d')\n",
    "            res_stream.append(t)\n",
    "        except:\n",
    "            res_stream.append(f)\n",
    "    result = dict(zip(stream, res_stream))\n",
    "    print(result)\n",
    "        \n",
    "stream = ['2018-04-02', '2018-02-29', '2018-19-02']\n",
    "Stream_Time(stream)"
   ]
  },
  {
   "cell_type": "markdown",
   "metadata": {},
   "source": [
    "Задание 3\n",
    "Напишите функцию date_range, которая возвращает список дат за период от start_date до end_date. Даты должны вводиться в формате YYYY-MM-DD. В случае неверного формата или при start_date > end_date должен возвращаться пустой список."
   ]
  },
  {
   "cell_type": "code",
   "execution_count": null,
   "metadata": {},
   "outputs": [],
   "source": [
    "def date_range():\n",
    "    from datetime import datetime\n",
    "    from datetime import timedelta\n",
    "    start_date = input(\"Введите начальную дату в формате YYYY-MM-DD: \")\n",
    "    end_date = input(\"Введите конечную дату в формате YYYY-MM-DD: \")\n",
    "    delta_date = []\n",
    "    td = 0\n",
    "    try : \n",
    "        SD = datetime.strptime(start_date, '%Y-%m-%d')\n",
    "        ED = datetime.strptime(end_date, '%Y-%m-%d')\n",
    "        DD = SD\n",
    "        while DD <= ED:\n",
    "            delta_date.append(DD.strftime('%Y-%m-%d'))\n",
    "            DD += timedelta(days=1)\n",
    "    except : \n",
    "        pass \n",
    "    finally: \n",
    "        print(delta_date)\n",
    "\n",
    "date_range()         \n",
    "        "
   ]
  }
 ],
 "metadata": {
  "kernelspec": {
   "display_name": "Python 3",
   "language": "python",
   "name": "python3"
  },
  "language_info": {
   "codemirror_mode": {
    "name": "ipython",
    "version": 3
   },
   "file_extension": ".py",
   "mimetype": "text/x-python",
   "name": "python",
   "nbconvert_exporter": "python",
   "pygments_lexer": "ipython3",
   "version": "3.7.4"
  }
 },
 "nbformat": 4,
 "nbformat_minor": 2
}
